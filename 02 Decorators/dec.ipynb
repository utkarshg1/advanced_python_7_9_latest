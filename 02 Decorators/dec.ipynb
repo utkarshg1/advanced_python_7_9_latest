{
 "cells": [
  {
   "cell_type": "markdown",
   "id": "a1c2bb1f",
   "metadata": {},
   "source": [
    "# Decorators\n",
    "To modify the behaviour of functions"
   ]
  },
  {
   "cell_type": "code",
   "execution_count": 1,
   "id": "8c7b8fc2",
   "metadata": {},
   "outputs": [],
   "source": [
    "def welcome(func):\n",
    "    def wrapper(*args, **kwargs):\n",
    "        print(\"Welcome User!\")\n",
    "        res = func(*args, **kwargs)\n",
    "        print(f\"Function Results : {res}\")\n",
    "        print(\"Thank you\")\n",
    "        return res\n",
    "\n",
    "    return wrapper"
   ]
  },
  {
   "cell_type": "markdown",
   "id": "7ce7333f",
   "metadata": {},
   "source": [
    "# How to apply a decorater\n",
    "@decorator_name"
   ]
  },
  {
   "cell_type": "code",
   "execution_count": 4,
   "id": "f5abd323",
   "metadata": {},
   "outputs": [],
   "source": [
    "@welcome\n",
    "def simple_interest(p: float, n: float, r: float) -> tuple:\n",
    "    i = (p * n * r) / 100\n",
    "    a = p + i\n",
    "    return i, a"
   ]
  },
  {
   "cell_type": "code",
   "execution_count": 5,
   "id": "3d66a5c6",
   "metadata": {},
   "outputs": [
    {
     "name": "stdout",
     "output_type": "stream",
     "text": [
      "Welcome User!\n",
      "Function Results : (10200.0, 60200.0)\n",
      "Thank you\n"
     ]
    }
   ],
   "source": [
    "i1, a1 = simple_interest(p=50_000, n=3, r=6.8)"
   ]
  },
  {
   "cell_type": "code",
   "execution_count": 6,
   "id": "a31f656e",
   "metadata": {},
   "outputs": [
    {
     "data": {
      "text/plain": [
       "10200.0"
      ]
     },
     "execution_count": 6,
     "metadata": {},
     "output_type": "execute_result"
    }
   ],
   "source": [
    "i1"
   ]
  },
  {
   "cell_type": "code",
   "execution_count": 7,
   "id": "b5c42e89",
   "metadata": {},
   "outputs": [
    {
     "data": {
      "text/plain": [
       "60200.0"
      ]
     },
     "execution_count": 7,
     "metadata": {},
     "output_type": "execute_result"
    }
   ],
   "source": [
    "a1"
   ]
  },
  {
   "cell_type": "code",
   "execution_count": 8,
   "id": "9ee628a3",
   "metadata": {},
   "outputs": [
    {
     "name": "stdout",
     "output_type": "stream",
     "text": [
      "Welcome User!\n",
      "Function Results : (28400.0, 108400.0)\n",
      "Thank you\n"
     ]
    }
   ],
   "source": [
    "i2, a2 = simple_interest(p=80_000, n=5, r=7.1)"
   ]
  },
  {
   "cell_type": "code",
   "execution_count": 9,
   "id": "6013f4b1",
   "metadata": {},
   "outputs": [
    {
     "data": {
      "text/plain": [
       "28400.0"
      ]
     },
     "execution_count": 9,
     "metadata": {},
     "output_type": "execute_result"
    }
   ],
   "source": [
    "i2"
   ]
  },
  {
   "cell_type": "code",
   "execution_count": 10,
   "id": "302c5ee7",
   "metadata": {},
   "outputs": [
    {
     "data": {
      "text/plain": [
       "108400.0"
      ]
     },
     "execution_count": 10,
     "metadata": {},
     "output_type": "execute_result"
    }
   ],
   "source": [
    "a2"
   ]
  },
  {
   "cell_type": "code",
   "execution_count": 11,
   "id": "7eed3c5b",
   "metadata": {},
   "outputs": [],
   "source": [
    "import math"
   ]
  },
  {
   "cell_type": "code",
   "execution_count": 12,
   "id": "a4927c7d",
   "metadata": {},
   "outputs": [],
   "source": [
    "@welcome\n",
    "def hypotenuse(a: float, b: float) -> float:\n",
    "    c = math.sqrt(a**2 + b**2)\n",
    "    return c"
   ]
  },
  {
   "cell_type": "code",
   "execution_count": 13,
   "id": "d3a2ee1b",
   "metadata": {},
   "outputs": [
    {
     "name": "stdout",
     "output_type": "stream",
     "text": [
      "Welcome User!\n",
      "Function Results : 5.0\n",
      "Thank you\n"
     ]
    }
   ],
   "source": [
    "h1 = hypotenuse(3, 4)"
   ]
  },
  {
   "cell_type": "code",
   "execution_count": 14,
   "id": "7fa08685",
   "metadata": {},
   "outputs": [
    {
     "data": {
      "text/plain": [
       "5.0"
      ]
     },
     "execution_count": 14,
     "metadata": {},
     "output_type": "execute_result"
    }
   ],
   "source": [
    "h1"
   ]
  },
  {
   "cell_type": "code",
   "execution_count": 15,
   "id": "c3cb8716",
   "metadata": {},
   "outputs": [
    {
     "name": "stdout",
     "output_type": "stream",
     "text": [
      "Welcome User!\n",
      "Function Results : 18.062391868188442\n",
      "Thank you\n"
     ]
    }
   ],
   "source": [
    "h2 = hypotenuse(a=12, b=13.5)"
   ]
  },
  {
   "cell_type": "code",
   "execution_count": 16,
   "id": "8f98aa07",
   "metadata": {},
   "outputs": [
    {
     "data": {
      "text/plain": [
       "18.062391868188442"
      ]
     },
     "execution_count": 16,
     "metadata": {},
     "output_type": "execute_result"
    }
   ],
   "source": [
    "h2"
   ]
  },
  {
   "cell_type": "markdown",
   "id": "ee7b6991",
   "metadata": {},
   "source": [
    "# Create a decorator to measure time required for function to execute"
   ]
  },
  {
   "cell_type": "code",
   "execution_count": 17,
   "id": "944d8cf6",
   "metadata": {},
   "outputs": [
    {
     "name": "stdout",
     "output_type": "stream",
     "text": [
      "Hello\n"
     ]
    }
   ],
   "source": [
    "import time\n",
    "\n",
    "time.sleep(3)\n",
    "print(\"Hello\")"
   ]
  },
  {
   "cell_type": "markdown",
   "id": "1e1d61cd",
   "metadata": {},
   "source": [
    "# Measuring time requried to execute"
   ]
  },
  {
   "cell_type": "code",
   "execution_count": 20,
   "id": "df74572c",
   "metadata": {},
   "outputs": [
    {
     "name": "stdout",
     "output_type": "stream",
     "text": [
      "Test\n",
      "Test 2\n",
      "Time Required : 5.00 sec\n"
     ]
    }
   ],
   "source": [
    "# start measuring time\n",
    "start = time.perf_counter()\n",
    "\n",
    "# Write the code to execute\n",
    "time.sleep(2)\n",
    "print(\"Test\")\n",
    "time.sleep(3)\n",
    "print(\"Test 2\")\n",
    "\n",
    "# stop measuring time\n",
    "stop = time.perf_counter()\n",
    "\n",
    "# Calculate elapsed time\n",
    "elapsed = stop - start\n",
    "\n",
    "# Print time required\n",
    "print(f\"Time Required : {elapsed:.2f} sec\")"
   ]
  },
  {
   "cell_type": "code",
   "execution_count": 31,
   "id": "a840378d",
   "metadata": {},
   "outputs": [],
   "source": [
    "def measure_time(func):\n",
    "    def wrapper(*args, **kwargs):\n",
    "        # Start measuring time\n",
    "        start = time.perf_counter()\n",
    "        # Calulate and print function results\n",
    "        res = func(*args, **kwargs)\n",
    "        # Print the results\n",
    "        print(f\"Function Results : {res}\")\n",
    "        # Stop measuring time\n",
    "        stop = time.perf_counter()\n",
    "        # Excution time\n",
    "        elapsed = stop - start\n",
    "        # Print the execution time\n",
    "        print(f\"Excution Time : {elapsed:.2f} sec\")\n",
    "        return res\n",
    "\n",
    "    return wrapper"
   ]
  },
  {
   "cell_type": "code",
   "execution_count": 32,
   "id": "f0643048",
   "metadata": {},
   "outputs": [],
   "source": [
    "@measure_time\n",
    "def square(n: int) -> int:\n",
    "    time.sleep(7)\n",
    "    return n**2"
   ]
  },
  {
   "cell_type": "code",
   "execution_count": 33,
   "id": "a910e974",
   "metadata": {},
   "outputs": [
    {
     "name": "stdout",
     "output_type": "stream",
     "text": [
      "Function Results : 16\n",
      "Excution Time : 7.00 sec\n"
     ]
    }
   ],
   "source": [
    "s1 = square(4)"
   ]
  },
  {
   "cell_type": "code",
   "execution_count": 34,
   "id": "6d4614a6",
   "metadata": {},
   "outputs": [
    {
     "data": {
      "text/plain": [
       "16"
      ]
     },
     "execution_count": 34,
     "metadata": {},
     "output_type": "execute_result"
    }
   ],
   "source": [
    "s1"
   ]
  },
  {
   "cell_type": "code",
   "execution_count": 35,
   "id": "3e2a51b1",
   "metadata": {},
   "outputs": [
    {
     "name": "stdout",
     "output_type": "stream",
     "text": [
      "Function Results : 121\n",
      "Excution Time : 7.01 sec\n"
     ]
    }
   ],
   "source": [
    "s2 = square(11)"
   ]
  },
  {
   "cell_type": "code",
   "execution_count": 36,
   "id": "e4c0d5e5",
   "metadata": {},
   "outputs": [],
   "source": [
    "a = [1, 3, 11, 12, 14, 15]"
   ]
  },
  {
   "cell_type": "code",
   "execution_count": 46,
   "id": "c6353a32",
   "metadata": {},
   "outputs": [],
   "source": [
    "@measure_time\n",
    "def square_list(nums: list[int]) -> list[int]:\n",
    "    sqrs = []\n",
    "    for i in nums:\n",
    "        time.sleep(1)\n",
    "        s = i**2\n",
    "        print(s)\n",
    "        sqrs.append(s)\n",
    "\n",
    "    return sqrs"
   ]
  },
  {
   "cell_type": "code",
   "execution_count": 47,
   "id": "6dc38703",
   "metadata": {},
   "outputs": [
    {
     "data": {
      "text/plain": [
       "[1, 3, 11, 12, 14, 15]"
      ]
     },
     "execution_count": 47,
     "metadata": {},
     "output_type": "execute_result"
    }
   ],
   "source": [
    "a"
   ]
  },
  {
   "cell_type": "code",
   "execution_count": 48,
   "id": "401f06f9",
   "metadata": {},
   "outputs": [
    {
     "data": {
      "text/plain": [
       "6"
      ]
     },
     "execution_count": 48,
     "metadata": {},
     "output_type": "execute_result"
    }
   ],
   "source": [
    "len(a)"
   ]
  },
  {
   "cell_type": "code",
   "execution_count": 49,
   "id": "4676ba35",
   "metadata": {},
   "outputs": [
    {
     "name": "stdout",
     "output_type": "stream",
     "text": [
      "1\n",
      "9\n",
      "121\n",
      "144\n",
      "196\n",
      "225\n",
      "Function Results : [1, 9, 121, 144, 196, 225]\n",
      "Excution Time : 6.02 sec\n"
     ]
    }
   ],
   "source": [
    "a1 = square_list(a)"
   ]
  },
  {
   "cell_type": "code",
   "execution_count": 50,
   "id": "7f3e80aa",
   "metadata": {},
   "outputs": [
    {
     "data": {
      "text/plain": [
       "[1, 9, 121, 144, 196, 225]"
      ]
     },
     "execution_count": 50,
     "metadata": {},
     "output_type": "execute_result"
    }
   ],
   "source": [
    "a1"
   ]
  },
  {
   "cell_type": "code",
   "execution_count": 51,
   "id": "96402662",
   "metadata": {},
   "outputs": [
    {
     "data": {
      "text/plain": [
       "10"
      ]
     },
     "execution_count": 51,
     "metadata": {},
     "output_type": "execute_result"
    }
   ],
   "source": [
    "b = [11, 12, 13, 14, 15, 16, 17, 18, 19, 20]\n",
    "len(b)"
   ]
  },
  {
   "cell_type": "code",
   "execution_count": 52,
   "id": "27f09e3b",
   "metadata": {},
   "outputs": [
    {
     "name": "stdout",
     "output_type": "stream",
     "text": [
      "121\n",
      "144\n",
      "169\n",
      "196\n",
      "225\n",
      "256\n",
      "289\n",
      "324\n",
      "361\n",
      "400\n",
      "Function Results : [121, 144, 169, 196, 225, 256, 289, 324, 361, 400]\n",
      "Excution Time : 10.07 sec\n"
     ]
    }
   ],
   "source": [
    "b1 = square_list(b)"
   ]
  },
  {
   "cell_type": "code",
   "execution_count": 53,
   "id": "38bb72b4",
   "metadata": {},
   "outputs": [
    {
     "data": {
      "text/plain": [
       "[121, 144, 169, 196, 225, 256, 289, 324, 361, 400]"
      ]
     },
     "execution_count": 53,
     "metadata": {},
     "output_type": "execute_result"
    }
   ],
   "source": [
    "b1"
   ]
  },
  {
   "cell_type": "markdown",
   "id": "c1504b43",
   "metadata": {},
   "source": [
    "# Write a function to download a file and measure the time requried"
   ]
  },
  {
   "cell_type": "code",
   "execution_count": 54,
   "id": "ac68d6e4",
   "metadata": {},
   "outputs": [
    {
     "name": "stdout",
     "output_type": "stream",
     "text": [
      "https://raw.githubusercontent.com/utkarshg1/mlproject_regression/refs/heads/main/artifacts/data.csv\n"
     ]
    }
   ],
   "source": [
    "url1 = \"https://raw.githubusercontent.com/utkarshg1/mlproject_regression/refs/heads/main/artifacts/data.csv\"\n",
    "print(url1)"
   ]
  },
  {
   "cell_type": "code",
   "execution_count": 55,
   "id": "03c786ff",
   "metadata": {},
   "outputs": [
    {
     "data": {
      "text/plain": [
       "['https:',\n",
       " '',\n",
       " 'raw.githubusercontent.com',\n",
       " 'utkarshg1',\n",
       " 'mlproject_regression',\n",
       " 'refs',\n",
       " 'heads',\n",
       " 'main',\n",
       " 'artifacts',\n",
       " 'data.csv']"
      ]
     },
     "execution_count": 55,
     "metadata": {},
     "output_type": "execute_result"
    }
   ],
   "source": [
    "url1.split(\"/\")"
   ]
  },
  {
   "cell_type": "code",
   "execution_count": 56,
   "id": "1632f08a",
   "metadata": {},
   "outputs": [
    {
     "data": {
      "text/plain": [
       "'data.csv'"
      ]
     },
     "execution_count": 56,
     "metadata": {},
     "output_type": "execute_result"
    }
   ],
   "source": [
    "url1.split(\"/\")[-1]"
   ]
  },
  {
   "cell_type": "code",
   "execution_count": 60,
   "id": "90ac30e8",
   "metadata": {},
   "outputs": [],
   "source": [
    "from urllib.request import urlretrieve\n",
    "\n",
    "\n",
    "@measure_time\n",
    "def download_file(url: str):\n",
    "    filename = url.split(\"/\")[-1]\n",
    "    print(f\"Downloading File : {filename} ...\")\n",
    "    urlretrieve(url, filename)\n",
    "    print(f\"{filename} download successful!\")"
   ]
  },
  {
   "cell_type": "code",
   "execution_count": 61,
   "id": "6da7cc7a",
   "metadata": {},
   "outputs": [
    {
     "data": {
      "text/plain": [
       "'https://raw.githubusercontent.com/utkarshg1/mlproject_regression/refs/heads/main/artifacts/data.csv'"
      ]
     },
     "execution_count": 61,
     "metadata": {},
     "output_type": "execute_result"
    }
   ],
   "source": [
    "url1"
   ]
  },
  {
   "cell_type": "code",
   "execution_count": 62,
   "id": "8c44fbed",
   "metadata": {},
   "outputs": [
    {
     "name": "stdout",
     "output_type": "stream",
     "text": [
      "Downloading File : data.csv ...\n",
      "data.csv download successful!\n",
      "Function Results : None\n",
      "Excution Time : 2.30 sec\n"
     ]
    }
   ],
   "source": [
    "download_file(url1)"
   ]
  },
  {
   "cell_type": "code",
   "execution_count": 63,
   "id": "64d2a894",
   "metadata": {},
   "outputs": [
    {
     "name": "stdout",
     "output_type": "stream",
     "text": [
      "https://raw.githubusercontent.com/utkarshg1/mlproject_regression/refs/heads/main/artifacts/train.csv\n"
     ]
    }
   ],
   "source": [
    "url2 = \"https://raw.githubusercontent.com/utkarshg1/mlproject_regression/refs/heads/main/artifacts/train.csv\"\n",
    "print(url2)"
   ]
  },
  {
   "cell_type": "code",
   "execution_count": 64,
   "id": "ec21e682",
   "metadata": {},
   "outputs": [
    {
     "name": "stdout",
     "output_type": "stream",
     "text": [
      "Downloading File : train.csv ...\n",
      "train.csv download successful!\n",
      "Function Results : None\n",
      "Excution Time : 2.16 sec\n"
     ]
    }
   ],
   "source": [
    "download_file(url2)"
   ]
  },
  {
   "cell_type": "markdown",
   "id": "7d51597c",
   "metadata": {},
   "source": [
    "# Load file as dataframe"
   ]
  },
  {
   "cell_type": "code",
   "execution_count": 65,
   "id": "817b1c6f",
   "metadata": {},
   "outputs": [
    {
     "data": {
      "text/html": [
       "<div>\n",
       "<style scoped>\n",
       "    .dataframe tbody tr th:only-of-type {\n",
       "        vertical-align: middle;\n",
       "    }\n",
       "\n",
       "    .dataframe tbody tr th {\n",
       "        vertical-align: top;\n",
       "    }\n",
       "\n",
       "    .dataframe thead th {\n",
       "        text-align: right;\n",
       "    }\n",
       "</style>\n",
       "<table border=\"1\" class=\"dataframe\">\n",
       "  <thead>\n",
       "    <tr style=\"text-align: right;\">\n",
       "      <th></th>\n",
       "      <th>id</th>\n",
       "      <th>carat</th>\n",
       "      <th>cut</th>\n",
       "      <th>color</th>\n",
       "      <th>clarity</th>\n",
       "      <th>depth</th>\n",
       "      <th>table</th>\n",
       "      <th>x</th>\n",
       "      <th>y</th>\n",
       "      <th>z</th>\n",
       "      <th>price</th>\n",
       "    </tr>\n",
       "  </thead>\n",
       "  <tbody>\n",
       "    <tr>\n",
       "      <th>0</th>\n",
       "      <td>0</td>\n",
       "      <td>1.52</td>\n",
       "      <td>Premium</td>\n",
       "      <td>F</td>\n",
       "      <td>VS2</td>\n",
       "      <td>62.2</td>\n",
       "      <td>58.0</td>\n",
       "      <td>7.27</td>\n",
       "      <td>7.33</td>\n",
       "      <td>4.55</td>\n",
       "      <td>13619</td>\n",
       "    </tr>\n",
       "    <tr>\n",
       "      <th>1</th>\n",
       "      <td>1</td>\n",
       "      <td>2.03</td>\n",
       "      <td>Very Good</td>\n",
       "      <td>J</td>\n",
       "      <td>SI2</td>\n",
       "      <td>62.0</td>\n",
       "      <td>58.0</td>\n",
       "      <td>8.06</td>\n",
       "      <td>8.12</td>\n",
       "      <td>5.05</td>\n",
       "      <td>13387</td>\n",
       "    </tr>\n",
       "    <tr>\n",
       "      <th>2</th>\n",
       "      <td>2</td>\n",
       "      <td>0.70</td>\n",
       "      <td>Ideal</td>\n",
       "      <td>G</td>\n",
       "      <td>VS1</td>\n",
       "      <td>61.2</td>\n",
       "      <td>57.0</td>\n",
       "      <td>5.69</td>\n",
       "      <td>5.73</td>\n",
       "      <td>3.50</td>\n",
       "      <td>2772</td>\n",
       "    </tr>\n",
       "    <tr>\n",
       "      <th>3</th>\n",
       "      <td>3</td>\n",
       "      <td>0.32</td>\n",
       "      <td>Ideal</td>\n",
       "      <td>G</td>\n",
       "      <td>VS1</td>\n",
       "      <td>61.6</td>\n",
       "      <td>56.0</td>\n",
       "      <td>4.38</td>\n",
       "      <td>4.41</td>\n",
       "      <td>2.71</td>\n",
       "      <td>666</td>\n",
       "    </tr>\n",
       "    <tr>\n",
       "      <th>4</th>\n",
       "      <td>4</td>\n",
       "      <td>1.70</td>\n",
       "      <td>Premium</td>\n",
       "      <td>G</td>\n",
       "      <td>VS2</td>\n",
       "      <td>62.6</td>\n",
       "      <td>59.0</td>\n",
       "      <td>7.65</td>\n",
       "      <td>7.61</td>\n",
       "      <td>4.77</td>\n",
       "      <td>14453</td>\n",
       "    </tr>\n",
       "  </tbody>\n",
       "</table>\n",
       "</div>"
      ],
      "text/plain": [
       "   id  carat        cut color clarity  depth  table     x     y     z  price\n",
       "0   0   1.52    Premium     F     VS2   62.2   58.0  7.27  7.33  4.55  13619\n",
       "1   1   2.03  Very Good     J     SI2   62.0   58.0  8.06  8.12  5.05  13387\n",
       "2   2   0.70      Ideal     G     VS1   61.2   57.0  5.69  5.73  3.50   2772\n",
       "3   3   0.32      Ideal     G     VS1   61.6   56.0  4.38  4.41  2.71    666\n",
       "4   4   1.70    Premium     G     VS2   62.6   59.0  7.65  7.61  4.77  14453"
      ]
     },
     "execution_count": 65,
     "metadata": {},
     "output_type": "execute_result"
    }
   ],
   "source": [
    "import pandas as pd\n",
    "\n",
    "df = pd.read_csv(\"data.csv\")\n",
    "df.head()"
   ]
  },
  {
   "cell_type": "code",
   "execution_count": 66,
   "id": "87e86e72",
   "metadata": {},
   "outputs": [
    {
     "data": {
      "text/plain": [
       "(193573, 11)"
      ]
     },
     "execution_count": 66,
     "metadata": {},
     "output_type": "execute_result"
    }
   ],
   "source": [
    "df.shape"
   ]
  },
  {
   "cell_type": "code",
   "execution_count": 67,
   "id": "a5f1391d",
   "metadata": {},
   "outputs": [
    {
     "name": "stdout",
     "output_type": "stream",
     "text": [
      "<class 'pandas.core.frame.DataFrame'>\n",
      "RangeIndex: 193573 entries, 0 to 193572\n",
      "Data columns (total 11 columns):\n",
      " #   Column   Non-Null Count   Dtype  \n",
      "---  ------   --------------   -----  \n",
      " 0   id       193573 non-null  int64  \n",
      " 1   carat    193573 non-null  float64\n",
      " 2   cut      193573 non-null  object \n",
      " 3   color    193573 non-null  object \n",
      " 4   clarity  193573 non-null  object \n",
      " 5   depth    193573 non-null  float64\n",
      " 6   table    193573 non-null  float64\n",
      " 7   x        193573 non-null  float64\n",
      " 8   y        193573 non-null  float64\n",
      " 9   z        193573 non-null  float64\n",
      " 10  price    193573 non-null  int64  \n",
      "dtypes: float64(6), int64(2), object(3)\n",
      "memory usage: 16.2+ MB\n"
     ]
    }
   ],
   "source": [
    "df.info()"
   ]
  },
  {
   "cell_type": "markdown",
   "id": "8e7c1b4c",
   "metadata": {},
   "source": [
    "# Show the average price by Cut"
   ]
  },
  {
   "cell_type": "code",
   "execution_count": 75,
   "id": "b5c3dcf8",
   "metadata": {},
   "outputs": [
    {
     "data": {
      "text/html": [
       "<div>\n",
       "<style scoped>\n",
       "    .dataframe tbody tr th:only-of-type {\n",
       "        vertical-align: middle;\n",
       "    }\n",
       "\n",
       "    .dataframe tbody tr th {\n",
       "        vertical-align: top;\n",
       "    }\n",
       "\n",
       "    .dataframe thead tr th {\n",
       "        text-align: left;\n",
       "    }\n",
       "\n",
       "    .dataframe thead tr:last-of-type th {\n",
       "        text-align: right;\n",
       "    }\n",
       "</style>\n",
       "<table border=\"1\" class=\"dataframe\">\n",
       "  <thead>\n",
       "    <tr>\n",
       "      <th></th>\n",
       "      <th colspan=\"2\" halign=\"left\">price</th>\n",
       "    </tr>\n",
       "    <tr>\n",
       "      <th></th>\n",
       "      <th>mean</th>\n",
       "      <th>std</th>\n",
       "    </tr>\n",
       "    <tr>\n",
       "      <th>cut</th>\n",
       "      <th></th>\n",
       "      <th></th>\n",
       "    </tr>\n",
       "  </thead>\n",
       "  <tbody>\n",
       "    <tr>\n",
       "      <th>Fair</th>\n",
       "      <td>4810.50</td>\n",
       "      <td>3873.97</td>\n",
       "    </tr>\n",
       "    <tr>\n",
       "      <th>Good</th>\n",
       "      <td>4191.47</td>\n",
       "      <td>3596.30</td>\n",
       "    </tr>\n",
       "    <tr>\n",
       "      <th>Ideal</th>\n",
       "      <td>3396.19</td>\n",
       "      <td>3808.18</td>\n",
       "    </tr>\n",
       "    <tr>\n",
       "      <th>Premium</th>\n",
       "      <td>4797.06</td>\n",
       "      <td>4366.52</td>\n",
       "    </tr>\n",
       "    <tr>\n",
       "      <th>Very Good</th>\n",
       "      <td>4165.30</td>\n",
       "      <td>4028.44</td>\n",
       "    </tr>\n",
       "  </tbody>\n",
       "</table>\n",
       "</div>"
      ],
      "text/plain": [
       "             price         \n",
       "              mean      std\n",
       "cut                        \n",
       "Fair       4810.50  3873.97\n",
       "Good       4191.47  3596.30\n",
       "Ideal      3396.19  3808.18\n",
       "Premium    4797.06  4366.52\n",
       "Very Good  4165.30  4028.44"
      ]
     },
     "execution_count": 75,
     "metadata": {},
     "output_type": "execute_result"
    }
   ],
   "source": [
    "a = df.groupby(\"cut\").agg({\"price\": [\"mean\", \"std\"]}).round(2)\n",
    "\n",
    "a"
   ]
  },
  {
   "cell_type": "code",
   "execution_count": 77,
   "id": "72b37a78",
   "metadata": {},
   "outputs": [
    {
     "data": {
      "text/plain": [
       "<Axes: xlabel='cut'>"
      ]
     },
     "execution_count": 77,
     "metadata": {},
     "output_type": "execute_result"
    },
    {
     "data": {
      "image/png": "[encoded data removed]",
      "text/plain": [
       "<Figure size 640x480 with 1 Axes>"
      ]
     },
     "metadata": {},
     "output_type": "display_data"
    }
   ],
   "source": [
    "a[\"price\"].plot(kind=\"bar\")"
   ]
  },
  {
   "cell_type": "code",
   "execution_count": 81,
   "id": "cc6457ef",
   "metadata": {},
   "outputs": [
    {
     "data": {
      "text/html": [
       "<div>\n",
       "<style scoped>\n",
       "    .dataframe tbody tr th:only-of-type {\n",
       "        vertical-align: middle;\n",
       "    }\n",
       "\n",
       "    .dataframe tbody tr th {\n",
       "        vertical-align: top;\n",
       "    }\n",
       "\n",
       "    .dataframe thead th {\n",
       "        text-align: right;\n",
       "    }\n",
       "</style>\n",
       "<table border=\"1\" class=\"dataframe\">\n",
       "  <thead>\n",
       "    <tr style=\"text-align: right;\">\n",
       "      <th>cut</th>\n",
       "      <th>Fair</th>\n",
       "      <th>Good</th>\n",
       "      <th>Ideal</th>\n",
       "      <th>Premium</th>\n",
       "      <th>Very Good</th>\n",
       "    </tr>\n",
       "  </thead>\n",
       "  <tbody>\n",
       "    <tr>\n",
       "      <th>count</th>\n",
       "      <td>2021.00</td>\n",
       "      <td>11622.00</td>\n",
       "      <td>92454.00</td>\n",
       "      <td>49910.00</td>\n",
       "      <td>37566.00</td>\n",
       "    </tr>\n",
       "    <tr>\n",
       "      <th>mean</th>\n",
       "      <td>4810.50</td>\n",
       "      <td>4191.47</td>\n",
       "      <td>3396.19</td>\n",
       "      <td>4797.06</td>\n",
       "      <td>4165.30</td>\n",
       "    </tr>\n",
       "    <tr>\n",
       "      <th>std</th>\n",
       "      <td>3873.97</td>\n",
       "      <td>3596.30</td>\n",
       "      <td>3808.18</td>\n",
       "      <td>4366.52</td>\n",
       "      <td>4028.44</td>\n",
       "    </tr>\n",
       "    <tr>\n",
       "      <th>min</th>\n",
       "      <td>367.00</td>\n",
       "      <td>335.00</td>\n",
       "      <td>326.00</td>\n",
       "      <td>326.00</td>\n",
       "      <td>326.00</td>\n",
       "    </tr>\n",
       "    <tr>\n",
       "      <th>25%</th>\n",
       "      <td>2378.00</td>\n",
       "      <td>1437.00</td>\n",
       "      <td>871.00</td>\n",
       "      <td>1103.00</td>\n",
       "      <td>1050.00</td>\n",
       "    </tr>\n",
       "    <tr>\n",
       "      <th>50%</th>\n",
       "      <td>3669.00</td>\n",
       "      <td>3592.50</td>\n",
       "      <td>1752.00</td>\n",
       "      <td>3741.50</td>\n",
       "      <td>2903.00</td>\n",
       "    </tr>\n",
       "    <tr>\n",
       "      <th>75%</th>\n",
       "      <td>5408.00</td>\n",
       "      <td>5127.00</td>\n",
       "      <td>4580.00</td>\n",
       "      <td>6580.00</td>\n",
       "      <td>5448.50</td>\n",
       "    </tr>\n",
       "    <tr>\n",
       "      <th>max</th>\n",
       "      <td>18791.00</td>\n",
       "      <td>18804.00</td>\n",
       "      <td>18818.00</td>\n",
       "      <td>18818.00</td>\n",
       "      <td>18818.00</td>\n",
       "    </tr>\n",
       "  </tbody>\n",
       "</table>\n",
       "</div>"
      ],
      "text/plain": [
       "cut        Fair      Good     Ideal   Premium  Very Good\n",
       "count   2021.00  11622.00  92454.00  49910.00   37566.00\n",
       "mean    4810.50   4191.47   3396.19   4797.06    4165.30\n",
       "std     3873.97   3596.30   3808.18   4366.52    4028.44\n",
       "min      367.00    335.00    326.00    326.00     326.00\n",
       "25%     2378.00   1437.00    871.00   1103.00    1050.00\n",
       "50%     3669.00   3592.50   1752.00   3741.50    2903.00\n",
       "75%     5408.00   5127.00   4580.00   6580.00    5448.50\n",
       "max    18791.00  18804.00  18818.00  18818.00   18818.00"
      ]
     },
     "execution_count": 81,
     "metadata": {},
     "output_type": "execute_result"
    }
   ],
   "source": [
    "df.groupby(by=\"cut\").describe(exclude=\"object\").T.loc[\"price\"].round(2)"
   ]
  },
  {
   "cell_type": "code",
   "execution_count": null,
   "id": "a8243a4d",
   "metadata": {},
   "outputs": [],
   "source": []
  }
 ],
 "metadata": {
  "kernelspec": {
   "display_name": "Adv Python 7-9 pm Ravet",
   "language": "python",
   "name": "python3"
  },
  "language_info": {
   "codemirror_mode": {
    "name": "ipython",
    "version": 3
   },
   "file_extension": ".py",
   "mimetype": "text/x-python",
   "name": "python",
   "nbconvert_exporter": "python",
   "pygments_lexer": "ipython3",
   "version": "3.13.5"
  }
 },
 "nbformat": 4,
 "nbformat_minor": 5
}
