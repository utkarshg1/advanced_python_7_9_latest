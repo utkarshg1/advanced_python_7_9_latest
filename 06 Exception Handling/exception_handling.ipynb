{
 "cells": [
  {
   "cell_type": "markdown",
   "id": "00a50f99",
   "metadata": {},
   "source": [
    "# Exception Handling\n",
    "To catch the errors gracefully so application does not crash"
   ]
  },
  {
   "cell_type": "code",
   "execution_count": null,
   "id": "7f5cf3f8",
   "metadata": {},
   "outputs": [
    {
     "ename": "ZeroDivisionError",
     "evalue": "division by zero",
     "output_type": "error",
     "traceback": [
      "\u001b[31m---------------------------------------------------------------------------\u001b[39m",
      "\u001b[31mZeroDivisionError\u001b[39m                         Traceback (most recent call last)",
      "\u001b[36mCell\u001b[39m\u001b[36m \u001b[39m\u001b[32mIn[1]\u001b[39m\u001b[32m, line 3\u001b[39m\n\u001b[32m      1\u001b[39m a = \u001b[32m5\u001b[39m\n\u001b[32m      2\u001b[39m b = \u001b[32m0\u001b[39m\n\u001b[32m----> \u001b[39m\u001b[32m3\u001b[39m \u001b[38;5;28mprint\u001b[39m(\u001b[43ma\u001b[49m\u001b[43m \u001b[49m\u001b[43m/\u001b[49m\u001b[43m \u001b[49m\u001b[43mb\u001b[49m)\n\u001b[32m      4\u001b[39m \u001b[38;5;28mprint\u001b[39m(\u001b[33m\"\u001b[39m\u001b[33mHello!\u001b[39m\u001b[33m\"\u001b[39m)\n",
      "\u001b[31mZeroDivisionError\u001b[39m: division by zero"
     ]
    }
   ],
   "source": [
    "# Zero Division Error\n",
    "a = 5\n",
    "b = 0\n",
    "print(a / b)\n",
    "print(\"Hello!\")"
   ]
  },
  {
   "cell_type": "code",
   "execution_count": null,
   "id": "93627f99",
   "metadata": {},
   "outputs": [
    {
     "ename": "ValueError",
     "evalue": "invalid literal for int() with base 10: 'abc'",
     "output_type": "error",
     "traceback": [
      "\u001b[31m---------------------------------------------------------------------------\u001b[39m",
      "\u001b[31mValueError\u001b[39m                                Traceback (most recent call last)",
      "\u001b[36mCell\u001b[39m\u001b[36m \u001b[39m\u001b[32mIn[5]\u001b[39m\u001b[32m, line 2\u001b[39m\n\u001b[32m      1\u001b[39m \u001b[38;5;66;03m# Taking age as input from user\u001b[39;00m\n\u001b[32m----> \u001b[39m\u001b[32m2\u001b[39m age = \u001b[38;5;28;43mint\u001b[39;49m\u001b[43m(\u001b[49m\u001b[38;5;28;43minput\u001b[39;49m\u001b[43m(\u001b[49m\u001b[33;43m\"\u001b[39;49m\u001b[33;43mPlease enter age : \u001b[39;49m\u001b[33;43m\"\u001b[39;49m\u001b[43m)\u001b[49m\u001b[43m)\u001b[49m\n\u001b[32m      3\u001b[39m \u001b[38;5;28mprint\u001b[39m(age)\n",
      "\u001b[31mValueError\u001b[39m: invalid literal for int() with base 10: 'abc'"
     ]
    }
   ],
   "source": [
    "# Age entered abc\n",
    "age = int(input(\"Please enter age : \"))\n",
    "print(age)"
   ]
  },
  {
   "cell_type": "code",
   "execution_count": 6,
   "id": "16c7c819",
   "metadata": {},
   "outputs": [
    {
     "data": {
      "text/plain": [
       "str"
      ]
     },
     "execution_count": 6,
     "metadata": {},
     "output_type": "execute_result"
    }
   ],
   "source": [
    "a = \"23\"\n",
    "type(a)"
   ]
  },
  {
   "cell_type": "code",
   "execution_count": 7,
   "id": "48c961c8",
   "metadata": {},
   "outputs": [
    {
     "data": {
      "text/plain": [
       "int"
      ]
     },
     "execution_count": 7,
     "metadata": {},
     "output_type": "execute_result"
    }
   ],
   "source": [
    "b = int(a)\n",
    "type(b)"
   ]
  },
  {
   "cell_type": "code",
   "execution_count": 8,
   "id": "d58659ea",
   "metadata": {},
   "outputs": [
    {
     "name": "stdout",
     "output_type": "stream",
     "text": [
      "<class 'str'>\n"
     ]
    },
    {
     "ename": "ValueError",
     "evalue": "invalid literal for int() with base 10: 'abc'",
     "output_type": "error",
     "traceback": [
      "\u001b[31m---------------------------------------------------------------------------\u001b[39m",
      "\u001b[31mValueError\u001b[39m                                Traceback (most recent call last)",
      "\u001b[36mCell\u001b[39m\u001b[36m \u001b[39m\u001b[32mIn[8]\u001b[39m\u001b[32m, line 3\u001b[39m\n\u001b[32m      1\u001b[39m c = \u001b[33m\"\u001b[39m\u001b[33mabc\u001b[39m\u001b[33m\"\u001b[39m\n\u001b[32m      2\u001b[39m \u001b[38;5;28mprint\u001b[39m(\u001b[38;5;28mtype\u001b[39m(c))\n\u001b[32m----> \u001b[39m\u001b[32m3\u001b[39m d = \u001b[38;5;28;43mint\u001b[39;49m\u001b[43m(\u001b[49m\u001b[43mc\u001b[49m\u001b[43m)\u001b[49m\n\u001b[32m      4\u001b[39m \u001b[38;5;28mprint\u001b[39m(\u001b[38;5;28mtype\u001b[39m(d))\n",
      "\u001b[31mValueError\u001b[39m: invalid literal for int() with base 10: 'abc'"
     ]
    }
   ],
   "source": [
    "c = \"abc\"\n",
    "print(type(c))\n",
    "d = int(c)\n",
    "print(type(d))"
   ]
  },
  {
   "cell_type": "code",
   "execution_count": 10,
   "id": "4466b283",
   "metadata": {},
   "outputs": [
    {
     "ename": "TypeError",
     "evalue": "unsupported operand type(s) for /: 'str' and 'int'",
     "output_type": "error",
     "traceback": [
      "\u001b[31m---------------------------------------------------------------------------\u001b[39m",
      "\u001b[31mTypeError\u001b[39m                                 Traceback (most recent call last)",
      "\u001b[36mCell\u001b[39m\u001b[36m \u001b[39m\u001b[32mIn[10]\u001b[39m\u001b[32m, line 2\u001b[39m\n\u001b[32m      1\u001b[39m d = \u001b[33m\"\u001b[39m\u001b[33mExample\u001b[39m\u001b[33m\"\u001b[39m\n\u001b[32m----> \u001b[39m\u001b[32m2\u001b[39m \u001b[38;5;28mprint\u001b[39m(\u001b[43md\u001b[49m\u001b[43m \u001b[49m\u001b[43m/\u001b[49m\u001b[43m \u001b[49m\u001b[32;43m2\u001b[39;49m)\n",
      "\u001b[31mTypeError\u001b[39m: unsupported operand type(s) for /: 'str' and 'int'"
     ]
    }
   ],
   "source": [
    "d = \"Example\"\n",
    "print(d / 2)"
   ]
  },
  {
   "cell_type": "markdown",
   "id": "9de05f07",
   "metadata": {},
   "source": [
    "# Division without exception handling"
   ]
  },
  {
   "cell_type": "code",
   "execution_count": 11,
   "id": "bf4a7765",
   "metadata": {},
   "outputs": [],
   "source": [
    "def division(num: int, den: int) -> float:\n",
    "    r = num / den\n",
    "    return r"
   ]
  },
  {
   "cell_type": "code",
   "execution_count": 15,
   "id": "7e9bc965",
   "metadata": {},
   "outputs": [
    {
     "name": "stdout",
     "output_type": "stream",
     "text": [
      "5.75\n",
      "Complete\n"
     ]
    }
   ],
   "source": [
    "d1 = division(23, 4)\n",
    "print(d1)\n",
    "print(\"Complete\")"
   ]
  },
  {
   "cell_type": "code",
   "execution_count": 16,
   "id": "dfb8d34e",
   "metadata": {},
   "outputs": [
    {
     "name": "stdout",
     "output_type": "stream",
     "text": [
      "3.5714285714285716\n",
      "Complete\n"
     ]
    }
   ],
   "source": [
    "d2 = division(100, 28)\n",
    "print(d2)\n",
    "print(\"Complete\")"
   ]
  },
  {
   "cell_type": "code",
   "execution_count": 17,
   "id": "bca356e8",
   "metadata": {},
   "outputs": [
    {
     "ename": "ZeroDivisionError",
     "evalue": "division by zero",
     "output_type": "error",
     "traceback": [
      "\u001b[31m---------------------------------------------------------------------------\u001b[39m",
      "\u001b[31mZeroDivisionError\u001b[39m                         Traceback (most recent call last)",
      "\u001b[36mCell\u001b[39m\u001b[36m \u001b[39m\u001b[32mIn[17]\u001b[39m\u001b[32m, line 1\u001b[39m\n\u001b[32m----> \u001b[39m\u001b[32m1\u001b[39m d3 = \u001b[43mdivision\u001b[49m\u001b[43m(\u001b[49m\u001b[43mnum\u001b[49m\u001b[43m=\u001b[49m\u001b[32;43m150\u001b[39;49m\u001b[43m,\u001b[49m\u001b[43m \u001b[49m\u001b[43mden\u001b[49m\u001b[43m=\u001b[49m\u001b[32;43m0\u001b[39;49m\u001b[43m)\u001b[49m\n\u001b[32m      2\u001b[39m \u001b[38;5;28mprint\u001b[39m(d3)\n\u001b[32m      3\u001b[39m \u001b[38;5;28mprint\u001b[39m(\u001b[33m\"\u001b[39m\u001b[33mComplete\u001b[39m\u001b[33m\"\u001b[39m)\n",
      "\u001b[36mCell\u001b[39m\u001b[36m \u001b[39m\u001b[32mIn[11]\u001b[39m\u001b[32m, line 2\u001b[39m, in \u001b[36mdivision\u001b[39m\u001b[34m(num, den)\u001b[39m\n\u001b[32m      1\u001b[39m \u001b[38;5;28;01mdef\u001b[39;00m\u001b[38;5;250m \u001b[39m\u001b[34mdivision\u001b[39m(num: \u001b[38;5;28mint\u001b[39m, den: \u001b[38;5;28mint\u001b[39m) -> \u001b[38;5;28mfloat\u001b[39m:\n\u001b[32m----> \u001b[39m\u001b[32m2\u001b[39m     r = \u001b[43mnum\u001b[49m\u001b[43m \u001b[49m\u001b[43m/\u001b[49m\u001b[43m \u001b[49m\u001b[43mden\u001b[49m\n\u001b[32m      3\u001b[39m     \u001b[38;5;28;01mreturn\u001b[39;00m r\n",
      "\u001b[31mZeroDivisionError\u001b[39m: division by zero"
     ]
    }
   ],
   "source": [
    "d3 = division(num=150, den=0)\n",
    "print(d3)\n",
    "print(\"Complete\")"
   ]
  },
  {
   "cell_type": "code",
   "execution_count": 18,
   "id": "355b707f",
   "metadata": {},
   "outputs": [
    {
     "ename": "TypeError",
     "evalue": "unsupported operand type(s) for /: 'str' and 'int'",
     "output_type": "error",
     "traceback": [
      "\u001b[31m---------------------------------------------------------------------------\u001b[39m",
      "\u001b[31mTypeError\u001b[39m                                 Traceback (most recent call last)",
      "\u001b[36mCell\u001b[39m\u001b[36m \u001b[39m\u001b[32mIn[18]\u001b[39m\u001b[32m, line 1\u001b[39m\n\u001b[32m----> \u001b[39m\u001b[32m1\u001b[39m d4 = \u001b[43mdivision\u001b[49m\u001b[43m(\u001b[49m\u001b[43mnum\u001b[49m\u001b[43m=\u001b[49m\u001b[33;43m\"\u001b[39;49m\u001b[33;43mabc\u001b[39;49m\u001b[33;43m\"\u001b[39;49m\u001b[43m,\u001b[49m\u001b[43m \u001b[49m\u001b[43mden\u001b[49m\u001b[43m=\u001b[49m\u001b[32;43m3\u001b[39;49m\u001b[43m)\u001b[49m\n",
      "\u001b[36mCell\u001b[39m\u001b[36m \u001b[39m\u001b[32mIn[11]\u001b[39m\u001b[32m, line 2\u001b[39m, in \u001b[36mdivision\u001b[39m\u001b[34m(num, den)\u001b[39m\n\u001b[32m      1\u001b[39m \u001b[38;5;28;01mdef\u001b[39;00m\u001b[38;5;250m \u001b[39m\u001b[34mdivision\u001b[39m(num: \u001b[38;5;28mint\u001b[39m, den: \u001b[38;5;28mint\u001b[39m) -> \u001b[38;5;28mfloat\u001b[39m:\n\u001b[32m----> \u001b[39m\u001b[32m2\u001b[39m     r = \u001b[43mnum\u001b[49m\u001b[43m \u001b[49m\u001b[43m/\u001b[49m\u001b[43m \u001b[49m\u001b[43mden\u001b[49m\n\u001b[32m      3\u001b[39m     \u001b[38;5;28;01mreturn\u001b[39;00m r\n",
      "\u001b[31mTypeError\u001b[39m: unsupported operand type(s) for /: 'str' and 'int'"
     ]
    }
   ],
   "source": [
    "d4 = division(num=\"abc\", den=3)"
   ]
  },
  {
   "cell_type": "code",
   "execution_count": 19,
   "id": "2dd07a50",
   "metadata": {},
   "outputs": [
    {
     "ename": "TypeError",
     "evalue": "unsupported operand type(s) for /: 'str' and 'str'",
     "output_type": "error",
     "traceback": [
      "\u001b[31m---------------------------------------------------------------------------\u001b[39m",
      "\u001b[31mTypeError\u001b[39m                                 Traceback (most recent call last)",
      "\u001b[36mCell\u001b[39m\u001b[36m \u001b[39m\u001b[32mIn[19]\u001b[39m\u001b[32m, line 1\u001b[39m\n\u001b[32m----> \u001b[39m\u001b[32m1\u001b[39m d4 = \u001b[43mdivision\u001b[49m\u001b[43m(\u001b[49m\u001b[43mnum\u001b[49m\u001b[43m=\u001b[49m\u001b[33;43m\"\u001b[39;49m\u001b[33;43mabc\u001b[39;49m\u001b[33;43m\"\u001b[39;49m\u001b[43m,\u001b[49m\u001b[43m \u001b[49m\u001b[43mden\u001b[49m\u001b[43m=\u001b[49m\u001b[33;43m\"\u001b[39;49m\u001b[33;43mdef\u001b[39;49m\u001b[33;43m\"\u001b[39;49m\u001b[43m)\u001b[49m\n",
      "\u001b[36mCell\u001b[39m\u001b[36m \u001b[39m\u001b[32mIn[11]\u001b[39m\u001b[32m, line 2\u001b[39m, in \u001b[36mdivision\u001b[39m\u001b[34m(num, den)\u001b[39m\n\u001b[32m      1\u001b[39m \u001b[38;5;28;01mdef\u001b[39;00m\u001b[38;5;250m \u001b[39m\u001b[34mdivision\u001b[39m(num: \u001b[38;5;28mint\u001b[39m, den: \u001b[38;5;28mint\u001b[39m) -> \u001b[38;5;28mfloat\u001b[39m:\n\u001b[32m----> \u001b[39m\u001b[32m2\u001b[39m     r = \u001b[43mnum\u001b[49m\u001b[43m \u001b[49m\u001b[43m/\u001b[49m\u001b[43m \u001b[49m\u001b[43mden\u001b[49m\n\u001b[32m      3\u001b[39m     \u001b[38;5;28;01mreturn\u001b[39;00m r\n",
      "\u001b[31mTypeError\u001b[39m: unsupported operand type(s) for /: 'str' and 'str'"
     ]
    }
   ],
   "source": [
    "d4 = division(num=\"abc\", den=\"def\")"
   ]
  },
  {
   "cell_type": "markdown",
   "id": "0957c1d0",
   "metadata": {},
   "source": [
    "# Division with Generic exception handling"
   ]
  },
  {
   "cell_type": "code",
   "execution_count": 20,
   "id": "18b762b5",
   "metadata": {},
   "outputs": [
    {
     "name": "stdout",
     "output_type": "stream",
     "text": [
      "Help on class Exception in module builtins:\n",
      "\n",
      "class Exception(BaseException)\n",
      " |  Common base class for all non-exit exceptions.\n",
      " |\n",
      " |  Method resolution order:\n",
      " |      Exception\n",
      " |      BaseException\n",
      " |      object\n",
      " |\n",
      " |  Built-in subclasses:\n",
      " |      ArithmeticError\n",
      " |      AssertionError\n",
      " |      AttributeError\n",
      " |      BufferError\n",
      " |      ... and 16 other subclasses\n",
      " |\n",
      " |  Methods defined here:\n",
      " |\n",
      " |  __init__(self, /, *args, **kwargs)\n",
      " |      Initialize self.  See help(type(self)) for accurate signature.\n",
      " |\n",
      " |  ----------------------------------------------------------------------\n",
      " |  Static methods defined here:\n",
      " |\n",
      " |  __new__(*args, **kwargs)\n",
      " |      Create and return a new object.  See help(type) for accurate signature.\n",
      " |\n",
      " |  ----------------------------------------------------------------------\n",
      " |  Methods inherited from BaseException:\n",
      " |\n",
      " |  __getattribute__(self, name, /)\n",
      " |      Return getattr(self, name).\n",
      " |\n",
      " |  __reduce__(self, /)\n",
      " |      Helper for pickle.\n",
      " |\n",
      " |  __repr__(self, /)\n",
      " |      Return repr(self).\n",
      " |\n",
      " |  __setstate__(self, object, /)\n",
      " |\n",
      " |  __str__(self, /)\n",
      " |      Return str(self).\n",
      " |\n",
      " |  add_note(self, object, /)\n",
      " |      Exception.add_note(note) --\n",
      " |      add a note to the exception\n",
      " |\n",
      " |  with_traceback(self, object, /)\n",
      " |      Exception.with_traceback(tb) --\n",
      " |      set self.__traceback__ to tb and return self.\n",
      " |\n",
      " |  ----------------------------------------------------------------------\n",
      " |  Data descriptors inherited from BaseException:\n",
      " |\n",
      " |  __cause__\n",
      " |      exception cause\n",
      " |\n",
      " |  __context__\n",
      " |      exception context\n",
      " |\n",
      " |  __dict__\n",
      " |\n",
      " |  __suppress_context__\n",
      " |\n",
      " |  __traceback__\n",
      " |\n",
      " |  args\n",
      "\n"
     ]
    }
   ],
   "source": [
    "help(Exception)"
   ]
  },
  {
   "cell_type": "code",
   "execution_count": 21,
   "id": "042e4dd1",
   "metadata": {},
   "outputs": [],
   "source": [
    "def division_exc(num: int, den: int) -> float:\n",
    "    try:\n",
    "        r = num / den\n",
    "        return r\n",
    "    except Exception as e:\n",
    "        print(f\"Exception occured : {e}\")"
   ]
  },
  {
   "cell_type": "code",
   "execution_count": 22,
   "id": "009eb8bf",
   "metadata": {},
   "outputs": [
    {
     "name": "stdout",
     "output_type": "stream",
     "text": [
      "4.166666666666667\n",
      "Complete\n"
     ]
    }
   ],
   "source": [
    "d1 = division_exc(num=100, den=24)\n",
    "print(d1)\n",
    "print(\"Complete\")"
   ]
  },
  {
   "cell_type": "code",
   "execution_count": 23,
   "id": "bf233ed6",
   "metadata": {},
   "outputs": [
    {
     "name": "stdout",
     "output_type": "stream",
     "text": [
      "3.142857142857143\n",
      "Complete\n"
     ]
    }
   ],
   "source": [
    "d2 = division_exc(num=22, den=7)\n",
    "print(d2)\n",
    "print(\"Complete\")"
   ]
  },
  {
   "cell_type": "code",
   "execution_count": 25,
   "id": "638be1e2",
   "metadata": {},
   "outputs": [
    {
     "name": "stdout",
     "output_type": "stream",
     "text": [
      "Exception occured : division by zero\n",
      "None\n",
      "Complete\n"
     ]
    }
   ],
   "source": [
    "d3 = division_exc(num=100, den=0)\n",
    "print(d3)\n",
    "print(\"Complete\")"
   ]
  },
  {
   "cell_type": "code",
   "execution_count": 27,
   "id": "25896fd1",
   "metadata": {},
   "outputs": [
    {
     "name": "stdout",
     "output_type": "stream",
     "text": [
      "Exception occured : unsupported operand type(s) for /: 'str' and 'int'\n",
      "None\n",
      "Complete\n"
     ]
    }
   ],
   "source": [
    "d4 = division_exc(num=\"abc\", den=2)\n",
    "print(d4)\n",
    "print(\"Complete\")"
   ]
  },
  {
   "cell_type": "code",
   "execution_count": 28,
   "id": "facccd95",
   "metadata": {},
   "outputs": [
    {
     "name": "stdout",
     "output_type": "stream",
     "text": [
      "Exception occured : unsupported operand type(s) for /: 'int' and 'str'\n",
      "None\n",
      "Complete\n"
     ]
    }
   ],
   "source": [
    "d4 = division_exc(num=12, den=\"def\")\n",
    "print(d4)\n",
    "print(\"Complete\")"
   ]
  },
  {
   "cell_type": "markdown",
   "id": "e4d52266",
   "metadata": {},
   "source": [
    "# Different messages for different errors"
   ]
  },
  {
   "cell_type": "code",
   "execution_count": 29,
   "id": "511ccf02",
   "metadata": {},
   "outputs": [],
   "source": [
    "def division_custom(num: int, den: int) -> float:\n",
    "    try:\n",
    "        r = num / den\n",
    "        return r\n",
    "    except ZeroDivisionError:\n",
    "        print(\"Denominator of division cannot be Zero\")\n",
    "    except TypeError:\n",
    "        print(\"Ensure you enter numbers only\")\n",
    "    except Exception as e:\n",
    "        print(f\"Unexpected error occured : {e}\")"
   ]
  },
  {
   "cell_type": "code",
   "execution_count": 30,
   "id": "e77b4d4b",
   "metadata": {},
   "outputs": [
    {
     "name": "stdout",
     "output_type": "stream",
     "text": [
      "25.0\n",
      "Complete\n"
     ]
    }
   ],
   "source": [
    "d1 = division_custom(num=300, den=12)\n",
    "print(d1)\n",
    "print(\"Complete\")"
   ]
  },
  {
   "cell_type": "code",
   "execution_count": 31,
   "id": "b2c84448",
   "metadata": {},
   "outputs": [
    {
     "name": "stdout",
     "output_type": "stream",
     "text": [
      "Denominator of division cannot be Zero\n",
      "None\n",
      "Complete\n"
     ]
    }
   ],
   "source": [
    "d2 = division_custom(num=20, den=0)\n",
    "print(d2)\n",
    "print(\"Complete\")"
   ]
  },
  {
   "cell_type": "code",
   "execution_count": 32,
   "id": "60d78ef9",
   "metadata": {},
   "outputs": [
    {
     "name": "stdout",
     "output_type": "stream",
     "text": [
      "Ensure you enter numbers only\n",
      "None\n",
      "Complete\n"
     ]
    }
   ],
   "source": [
    "d2 = division_custom(num=\"abc\", den=3)\n",
    "print(d2)\n",
    "print(\"Complete\")"
   ]
  },
  {
   "cell_type": "code",
   "execution_count": 33,
   "id": "9c0a4f38",
   "metadata": {},
   "outputs": [
    {
     "name": "stdout",
     "output_type": "stream",
     "text": [
      "Ensure you enter numbers only\n",
      "None\n",
      "Complete\n"
     ]
    }
   ],
   "source": [
    "d3 = division_custom(num=\"a\", den=\"b\")\n",
    "print(d3)\n",
    "print(\"Complete\")"
   ]
  },
  {
   "cell_type": "markdown",
   "id": "1233e3e9",
   "metadata": {},
   "source": [
    "# You can raise errors whereever required"
   ]
  },
  {
   "cell_type": "code",
   "execution_count": 34,
   "id": "84bfcf3f",
   "metadata": {},
   "outputs": [],
   "source": [
    "def age_validator():\n",
    "    age = int(input(\"Please enter age in years : \"))\n",
    "    if age <= 0 or age > 100:\n",
    "        raise ValueError(\"Age should be between 0 to 100\")\n",
    "    return age"
   ]
  },
  {
   "cell_type": "code",
   "execution_count": 35,
   "id": "c0a2cf20",
   "metadata": {},
   "outputs": [
    {
     "name": "stdout",
     "output_type": "stream",
     "text": [
      "24\n"
     ]
    }
   ],
   "source": [
    "# Age - 24\n",
    "age1 = age_validator()\n",
    "print(age1)"
   ]
  },
  {
   "cell_type": "code",
   "execution_count": 36,
   "id": "9de4f5bb",
   "metadata": {},
   "outputs": [
    {
     "ename": "ValueError",
     "evalue": "Age should be between 0 to 100",
     "output_type": "error",
     "traceback": [
      "\u001b[31m---------------------------------------------------------------------------\u001b[39m",
      "\u001b[31mValueError\u001b[39m                                Traceback (most recent call last)",
      "\u001b[36mCell\u001b[39m\u001b[36m \u001b[39m\u001b[32mIn[36]\u001b[39m\u001b[32m, line 2\u001b[39m\n\u001b[32m      1\u001b[39m \u001b[38;5;66;03m# Age - (-23)\u001b[39;00m\n\u001b[32m----> \u001b[39m\u001b[32m2\u001b[39m age2 = \u001b[43mage_validator\u001b[49m\u001b[43m(\u001b[49m\u001b[43m)\u001b[49m\n\u001b[32m      3\u001b[39m \u001b[38;5;28mprint\u001b[39m(age2)\n",
      "\u001b[36mCell\u001b[39m\u001b[36m \u001b[39m\u001b[32mIn[34]\u001b[39m\u001b[32m, line 4\u001b[39m, in \u001b[36mage_validator\u001b[39m\u001b[34m()\u001b[39m\n\u001b[32m      2\u001b[39m age = \u001b[38;5;28mint\u001b[39m(\u001b[38;5;28minput\u001b[39m(\u001b[33m\"\u001b[39m\u001b[33mPlease enter age in years : \u001b[39m\u001b[33m\"\u001b[39m))\n\u001b[32m      3\u001b[39m \u001b[38;5;28;01mif\u001b[39;00m age <= \u001b[32m0\u001b[39m \u001b[38;5;129;01mor\u001b[39;00m age > \u001b[32m100\u001b[39m:\n\u001b[32m----> \u001b[39m\u001b[32m4\u001b[39m     \u001b[38;5;28;01mraise\u001b[39;00m \u001b[38;5;167;01mValueError\u001b[39;00m(\u001b[33m\"\u001b[39m\u001b[33mAge should be between 0 to 100\u001b[39m\u001b[33m\"\u001b[39m)\n\u001b[32m      5\u001b[39m \u001b[38;5;28;01mreturn\u001b[39;00m age\n",
      "\u001b[31mValueError\u001b[39m: Age should be between 0 to 100"
     ]
    }
   ],
   "source": [
    "# Age - (-23)\n",
    "age2 = age_validator()\n",
    "print(age2)"
   ]
  },
  {
   "cell_type": "code",
   "execution_count": 37,
   "id": "7308164c",
   "metadata": {},
   "outputs": [
    {
     "ename": "ValueError",
     "evalue": "Age should be between 0 to 100",
     "output_type": "error",
     "traceback": [
      "\u001b[31m---------------------------------------------------------------------------\u001b[39m",
      "\u001b[31mValueError\u001b[39m                                Traceback (most recent call last)",
      "\u001b[36mCell\u001b[39m\u001b[36m \u001b[39m\u001b[32mIn[37]\u001b[39m\u001b[32m, line 2\u001b[39m\n\u001b[32m      1\u001b[39m \u001b[38;5;66;03m# age = 250\u001b[39;00m\n\u001b[32m----> \u001b[39m\u001b[32m2\u001b[39m age3 = \u001b[43mage_validator\u001b[49m\u001b[43m(\u001b[49m\u001b[43m)\u001b[49m\n\u001b[32m      3\u001b[39m \u001b[38;5;28mprint\u001b[39m(age3)\n",
      "\u001b[36mCell\u001b[39m\u001b[36m \u001b[39m\u001b[32mIn[34]\u001b[39m\u001b[32m, line 4\u001b[39m, in \u001b[36mage_validator\u001b[39m\u001b[34m()\u001b[39m\n\u001b[32m      2\u001b[39m age = \u001b[38;5;28mint\u001b[39m(\u001b[38;5;28minput\u001b[39m(\u001b[33m\"\u001b[39m\u001b[33mPlease enter age in years : \u001b[39m\u001b[33m\"\u001b[39m))\n\u001b[32m      3\u001b[39m \u001b[38;5;28;01mif\u001b[39;00m age <= \u001b[32m0\u001b[39m \u001b[38;5;129;01mor\u001b[39;00m age > \u001b[32m100\u001b[39m:\n\u001b[32m----> \u001b[39m\u001b[32m4\u001b[39m     \u001b[38;5;28;01mraise\u001b[39;00m \u001b[38;5;167;01mValueError\u001b[39;00m(\u001b[33m\"\u001b[39m\u001b[33mAge should be between 0 to 100\u001b[39m\u001b[33m\"\u001b[39m)\n\u001b[32m      5\u001b[39m \u001b[38;5;28;01mreturn\u001b[39;00m age\n",
      "\u001b[31mValueError\u001b[39m: Age should be between 0 to 100"
     ]
    }
   ],
   "source": [
    "# age = 250\n",
    "age3 = age_validator()\n",
    "print(age3)"
   ]
  },
  {
   "cell_type": "code",
   "execution_count": null,
   "id": "1ba3537e",
   "metadata": {},
   "outputs": [
    {
     "name": "stdout",
     "output_type": "stream",
     "text": [
      "Exception occured : Age should be between 0 to 100\n"
     ]
    }
   ],
   "source": [
    "# Age - 250\n",
    "try:\n",
    "    age = age_validator()\n",
    "    print(f\"Age entered : {age}\")\n",
    "except Exception as e:\n",
    "    print(f\"Exception occured : {e}\")"
   ]
  },
  {
   "cell_type": "markdown",
   "id": "3a0c873c",
   "metadata": {},
   "source": [
    "# Different exception handling blocks in python\n",
    "1. try - Code which you try to execute\n",
    "2. except - excute except block if any error occurs\n",
    "3. else - Execute the code if try block is successful\n",
    "4. finally -  this block will always be executed "
   ]
  },
  {
   "cell_type": "code",
   "execution_count": 43,
   "id": "afb3e4cd",
   "metadata": {},
   "outputs": [],
   "source": [
    "import math"
   ]
  },
  {
   "cell_type": "code",
   "execution_count": 44,
   "id": "c68d3659",
   "metadata": {},
   "outputs": [
    {
     "data": {
      "text/plain": [
       "3.0"
      ]
     },
     "execution_count": 44,
     "metadata": {},
     "output_type": "execute_result"
    }
   ],
   "source": [
    "math.sqrt(9)"
   ]
  },
  {
   "cell_type": "code",
   "execution_count": 45,
   "id": "ba989c73",
   "metadata": {},
   "outputs": [
    {
     "data": {
      "text/plain": [
       "3.872983346207417"
      ]
     },
     "execution_count": 45,
     "metadata": {},
     "output_type": "execute_result"
    }
   ],
   "source": [
    "math.sqrt(15)"
   ]
  },
  {
   "cell_type": "code",
   "execution_count": 46,
   "id": "2504935b",
   "metadata": {},
   "outputs": [
    {
     "ename": "ValueError",
     "evalue": "math domain error",
     "output_type": "error",
     "traceback": [
      "\u001b[31m---------------------------------------------------------------------------\u001b[39m",
      "\u001b[31mValueError\u001b[39m                                Traceback (most recent call last)",
      "\u001b[36mCell\u001b[39m\u001b[36m \u001b[39m\u001b[32mIn[46]\u001b[39m\u001b[32m, line 1\u001b[39m\n\u001b[32m----> \u001b[39m\u001b[32m1\u001b[39m \u001b[43mmath\u001b[49m\u001b[43m.\u001b[49m\u001b[43msqrt\u001b[49m\u001b[43m(\u001b[49m\u001b[43m-\u001b[49m\u001b[32;43m12\u001b[39;49m\u001b[43m)\u001b[49m\n",
      "\u001b[31mValueError\u001b[39m: math domain error"
     ]
    }
   ],
   "source": [
    "math.sqrt(-12)"
   ]
  },
  {
   "cell_type": "code",
   "execution_count": 47,
   "id": "fd642f55",
   "metadata": {},
   "outputs": [
    {
     "ename": "TypeError",
     "evalue": "must be real number, not str",
     "output_type": "error",
     "traceback": [
      "\u001b[31m---------------------------------------------------------------------------\u001b[39m",
      "\u001b[31mTypeError\u001b[39m                                 Traceback (most recent call last)",
      "\u001b[36mCell\u001b[39m\u001b[36m \u001b[39m\u001b[32mIn[47]\u001b[39m\u001b[32m, line 1\u001b[39m\n\u001b[32m----> \u001b[39m\u001b[32m1\u001b[39m \u001b[43mmath\u001b[49m\u001b[43m.\u001b[49m\u001b[43msqrt\u001b[49m\u001b[43m(\u001b[49m\u001b[33;43m\"\u001b[39;49m\u001b[33;43ma\u001b[39;49m\u001b[33;43m\"\u001b[39;49m\u001b[43m)\u001b[49m\n",
      "\u001b[31mTypeError\u001b[39m: must be real number, not str"
     ]
    }
   ],
   "source": [
    "math.sqrt(\"a\")"
   ]
  },
  {
   "cell_type": "code",
   "execution_count": 48,
   "id": "1e99a643",
   "metadata": {},
   "outputs": [],
   "source": [
    "def square_root(num: int | float) -> float:\n",
    "    try:\n",
    "        s = math.sqrt(num)\n",
    "    except Exception as e:\n",
    "        print(f\"Exception Occured : {e}\")\n",
    "    else:\n",
    "        print(f\"Square root of {num} is {s}\")\n",
    "        return s\n",
    "    finally:\n",
    "        print(\"Finally block will always be executed\")"
   ]
  },
  {
   "cell_type": "code",
   "execution_count": 49,
   "id": "2538f557",
   "metadata": {},
   "outputs": [
    {
     "name": "stdout",
     "output_type": "stream",
     "text": [
      "Square root of 16 is 4.0\n",
      "Finally block will always be executed\n"
     ]
    }
   ],
   "source": [
    "s1 = square_root(num=16)"
   ]
  },
  {
   "cell_type": "code",
   "execution_count": 50,
   "id": "db68c1fa",
   "metadata": {},
   "outputs": [
    {
     "data": {
      "text/plain": [
       "4.0"
      ]
     },
     "execution_count": 50,
     "metadata": {},
     "output_type": "execute_result"
    }
   ],
   "source": [
    "s1"
   ]
  },
  {
   "cell_type": "code",
   "execution_count": 51,
   "id": "d007158d",
   "metadata": {},
   "outputs": [
    {
     "name": "stdout",
     "output_type": "stream",
     "text": [
      "Square root of 60 is 7.745966692414834\n",
      "Finally block will always be executed\n"
     ]
    }
   ],
   "source": [
    "s2 = square_root(num=60)"
   ]
  },
  {
   "cell_type": "code",
   "execution_count": 52,
   "id": "714fab0c",
   "metadata": {},
   "outputs": [
    {
     "data": {
      "text/plain": [
       "7.745966692414834"
      ]
     },
     "execution_count": 52,
     "metadata": {},
     "output_type": "execute_result"
    }
   ],
   "source": [
    "s2"
   ]
  },
  {
   "cell_type": "code",
   "execution_count": 53,
   "id": "5e172f60",
   "metadata": {},
   "outputs": [
    {
     "name": "stdout",
     "output_type": "stream",
     "text": [
      "Exception Occured : math domain error\n",
      "Finally block will always be executed\n"
     ]
    }
   ],
   "source": [
    "s3 = square_root(num=-3)"
   ]
  },
  {
   "cell_type": "code",
   "execution_count": 54,
   "id": "7973e2f8",
   "metadata": {},
   "outputs": [
    {
     "name": "stdout",
     "output_type": "stream",
     "text": [
      "Exception Occured : must be real number, not str\n",
      "Finally block will always be executed\n"
     ]
    }
   ],
   "source": [
    "s3 = square_root(num=\"abc\")"
   ]
  },
  {
   "cell_type": "markdown",
   "id": "66451a14",
   "metadata": {},
   "source": [
    "# File Handling\n",
    "\n",
    "1. w - Write mode - Creating new file\n",
    "2. r - Read mode - Read the content from file\n",
    "3. a - Append mode - Add something in an existing file"
   ]
  },
  {
   "cell_type": "code",
   "execution_count": 55,
   "id": "393acfe0",
   "metadata": {},
   "outputs": [],
   "source": [
    "# Create a new file with some content\n",
    "with open(\"example.txt\", \"w\", encoding=\"utf-8\") as f:\n",
    "    f.write(\"My Name is Utkarsh.\\n\")\n",
    "    f.write(\"I work as a Data Scientist\\n\")\n",
    "    f.write(\"My age is 30 year.\\n\")"
   ]
  },
  {
   "cell_type": "code",
   "execution_count": 56,
   "id": "c1656aa7",
   "metadata": {},
   "outputs": [
    {
     "name": "stdout",
     "output_type": "stream",
     "text": [
      "My Name is Utkarsh.\n",
      "I work as a Data Scientist\n",
      "My age is 30 year.\n",
      "\n"
     ]
    }
   ],
   "source": [
    "# Read the file\n",
    "with open(\"example.txt\", \"r\", encoding=\"utf-8\") as f:\n",
    "    content = f.read()\n",
    "\n",
    "# print the content\n",
    "print(content)"
   ]
  },
  {
   "cell_type": "code",
   "execution_count": 58,
   "id": "cf815c6b",
   "metadata": {},
   "outputs": [],
   "source": [
    "# Adding more lines in file append mode\n",
    "with open(\"example.txt\", \"a\", encoding=\"utf-8\") as f:\n",
    "    f.write(\"This line is added with append mode\\n\")\n",
    "    f.write(\"This is a test\\n\")"
   ]
  },
  {
   "cell_type": "code",
   "execution_count": 59,
   "id": "d9cc63f6",
   "metadata": {},
   "outputs": [
    {
     "name": "stdout",
     "output_type": "stream",
     "text": [
      "My Name is Utkarsh.\n",
      "I work as a Data Scientist\n",
      "My age is 30 year.\n",
      "This line is added with append mode\n",
      "This is a test\n",
      "\n"
     ]
    }
   ],
   "source": [
    "# read file again\n",
    "with open(\"example.txt\", \"r\", encoding=\"utf-8\") as f:\n",
    "    content = f.read()\n",
    "\n",
    "# print the content\n",
    "print(content)"
   ]
  },
  {
   "cell_type": "code",
   "execution_count": null,
   "id": "af9c3c6b",
   "metadata": {},
   "outputs": [],
   "source": [
    "def write_file(filename: str, content: str):\n",
    "    try:\n",
    "        with open(filename, \"w\", encoding=\"utf-8\") as f:\n",
    "            f.write(content + \"\\n\")\n",
    "    except Exception as e:\n",
    "        print(f\"Exception occured : {e}\")"
   ]
  },
  {
   "cell_type": "code",
   "execution_count": 62,
   "id": "95f99542",
   "metadata": {},
   "outputs": [],
   "source": [
    "write_file(\"test.txt\", \"I work at ETLhive\")"
   ]
  },
  {
   "cell_type": "code",
   "execution_count": 63,
   "id": "f42feb34",
   "metadata": {},
   "outputs": [],
   "source": [
    "def read_file(filename: str) -> str:\n",
    "    try:\n",
    "        with open(filename, \"r\", encoding=\"utf-8\") as f:\n",
    "            content = f.read()\n",
    "        return content\n",
    "    except Exception as e:\n",
    "        print(f\"Exception occured : {e}\")"
   ]
  },
  {
   "cell_type": "code",
   "execution_count": 64,
   "id": "ff6402f8",
   "metadata": {},
   "outputs": [
    {
     "name": "stdout",
     "output_type": "stream",
     "text": [
      "My Name is Utkarsh.\n",
      "I work as a Data Scientist\n",
      "My age is 30 year.\n",
      "This line is added with append mode\n",
      "This is a test\n",
      "\n"
     ]
    }
   ],
   "source": [
    "c1 = read_file(\"example.txt\")\n",
    "print(c1)"
   ]
  },
  {
   "cell_type": "code",
   "execution_count": 67,
   "id": "08c96bdd",
   "metadata": {},
   "outputs": [
    {
     "name": "stdout",
     "output_type": "stream",
     "text": [
      "I work at ETLhive\n"
     ]
    }
   ],
   "source": [
    "c2 = read_file(\"test.txt\")\n",
    "print(c2)"
   ]
  },
  {
   "cell_type": "code",
   "execution_count": 68,
   "id": "da94e1bc",
   "metadata": {},
   "outputs": [
    {
     "name": "stdout",
     "output_type": "stream",
     "text": [
      "Exception occured : [Errno 2] No such file or directory: 'a.txt'\n"
     ]
    }
   ],
   "source": [
    "c3 = read_file(\"a.txt\")"
   ]
  },
  {
   "cell_type": "code",
   "execution_count": null,
   "id": "6f89a1d7",
   "metadata": {},
   "outputs": [],
   "source": []
  }
 ],
 "metadata": {
  "kernelspec": {
   "display_name": "advanced_python_7_9_latest",
   "language": "python",
   "name": "python3"
  },
  "language_info": {
   "codemirror_mode": {
    "name": "ipython",
    "version": 3
   },
   "file_extension": ".py",
   "mimetype": "text/x-python",
   "name": "python",
   "nbconvert_exporter": "python",
   "pygments_lexer": "ipython3",
   "version": "3.13.3"
  }
 },
 "nbformat": 4,
 "nbformat_minor": 5
}
