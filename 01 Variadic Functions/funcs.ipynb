{
 "cells": [
  {
   "cell_type": "markdown",
   "id": "0b5593a8",
   "metadata": {},
   "source": [
    "# Variadic functions"
   ]
  },
  {
   "cell_type": "markdown",
   "id": "74e4d584",
   "metadata": {},
   "source": [
    "### User Defined Functions"
   ]
  },
  {
   "cell_type": "code",
   "execution_count": 1,
   "id": "ddb4efc0",
   "metadata": {},
   "outputs": [],
   "source": [
    "def add(a: float | int, b: float | int) -> float | int:\n",
    "    \"\"\"\n",
    "    This function adds 2 numbers\n",
    "    \"\"\"\n",
    "    c = a + b\n",
    "    return c"
   ]
  },
  {
   "cell_type": "code",
   "execution_count": 2,
   "id": "afdf935b",
   "metadata": {},
   "outputs": [
    {
     "name": "stdout",
     "output_type": "stream",
     "text": [
      "7\n"
     ]
    }
   ],
   "source": [
    "# positional arguments\n",
    "a1 = add(3, 4)\n",
    "print(a1)"
   ]
  },
  {
   "cell_type": "code",
   "execution_count": 3,
   "id": "9dafd199",
   "metadata": {},
   "outputs": [
    {
     "name": "stdout",
     "output_type": "stream",
     "text": [
      "57.5\n"
     ]
    }
   ],
   "source": [
    "# Keyword Arguments\n",
    "a2 = add(a=23, b=34.5)\n",
    "print(a2)"
   ]
  },
  {
   "cell_type": "code",
   "execution_count": 4,
   "id": "85f15bdd",
   "metadata": {},
   "outputs": [
    {
     "ename": "TypeError",
     "evalue": "add() takes 2 positional arguments but 3 were given",
     "output_type": "error",
     "traceback": [
      "\u001b[31m---------------------------------------------------------------------------\u001b[39m",
      "\u001b[31mTypeError\u001b[39m                                 Traceback (most recent call last)",
      "\u001b[36mCell\u001b[39m\u001b[36m \u001b[39m\u001b[32mIn[4]\u001b[39m\u001b[32m, line 1\u001b[39m\n\u001b[32m----> \u001b[39m\u001b[32m1\u001b[39m a3 = \u001b[43madd\u001b[49m\u001b[43m(\u001b[49m\u001b[32;43m3\u001b[39;49m\u001b[43m,\u001b[49m\u001b[43m \u001b[49m\u001b[32;43m4\u001b[39;49m\u001b[43m,\u001b[49m\u001b[43m \u001b[49m\u001b[32;43m5\u001b[39;49m\u001b[43m)\u001b[49m\n\u001b[32m      2\u001b[39m \u001b[38;5;28mprint\u001b[39m(a3)\n",
      "\u001b[31mTypeError\u001b[39m: add() takes 2 positional arguments but 3 were given"
     ]
    }
   ],
   "source": [
    "a3 = add(3, 4, 5)\n",
    "print(a3)"
   ]
  },
  {
   "cell_type": "markdown",
   "id": "f548f61d",
   "metadata": {},
   "source": [
    "### Variadic Functions - functions with flexible input numbers \n",
    "*args - Positional arguments - acts like a tuple in python"
   ]
  },
  {
   "cell_type": "code",
   "execution_count": 5,
   "id": "f8bcb9d7",
   "metadata": {},
   "outputs": [],
   "source": [
    "def function1(*args):\n",
    "    print(args)\n",
    "    print(f\"Type of args : {type(args)}\")\n",
    "    for i in args:\n",
    "        print(i)"
   ]
  },
  {
   "cell_type": "code",
   "execution_count": 6,
   "id": "f7ff7170",
   "metadata": {},
   "outputs": [
    {
     "name": "stdout",
     "output_type": "stream",
     "text": [
      "(1, 2)\n",
      "Type of args : <class 'tuple'>\n",
      "1\n",
      "2\n"
     ]
    }
   ],
   "source": [
    "function1(1, 2)"
   ]
  },
  {
   "cell_type": "code",
   "execution_count": 7,
   "id": "7485fcc1",
   "metadata": {},
   "outputs": [
    {
     "name": "stdout",
     "output_type": "stream",
     "text": [
      "('Utkarsh', True, 23.5, 12, 13, False)\n",
      "Type of args : <class 'tuple'>\n",
      "Utkarsh\n",
      "True\n",
      "23.5\n",
      "12\n",
      "13\n",
      "False\n"
     ]
    }
   ],
   "source": [
    "function1(\"Utkarsh\", True, 23.5, 12, 13, False)"
   ]
  },
  {
   "cell_type": "code",
   "execution_count": 8,
   "id": "9df2911e",
   "metadata": {},
   "outputs": [
    {
     "name": "stdout",
     "output_type": "stream",
     "text": [
      "('a',)\n",
      "Type of args : <class 'tuple'>\n",
      "a\n"
     ]
    }
   ],
   "source": [
    "function1(\"a\")"
   ]
  },
  {
   "cell_type": "code",
   "execution_count": 9,
   "id": "19b69d2f",
   "metadata": {},
   "outputs": [
    {
     "data": {
      "text/plain": [
       "list"
      ]
     },
     "execution_count": 9,
     "metadata": {},
     "output_type": "execute_result"
    }
   ],
   "source": [
    "b = [\"example\", 1, 2, False]\n",
    "type(b)"
   ]
  },
  {
   "cell_type": "code",
   "execution_count": null,
   "id": "8e4ceccb",
   "metadata": {},
   "outputs": [
    {
     "name": "stdout",
     "output_type": "stream",
     "text": [
      "('example', 1, 2, False)\n",
      "Type of args : <class 'tuple'>\n",
      "example\n",
      "1\n",
      "2\n",
      "False\n"
     ]
    }
   ],
   "source": [
    "# Unpack and pass the list *list_name\n",
    "function1(*b)"
   ]
  },
  {
   "cell_type": "code",
   "execution_count": 11,
   "id": "acc3d6bb",
   "metadata": {},
   "outputs": [],
   "source": [
    "def add_multiple(*args):\n",
    "    # Initialize sum to 0\n",
    "    s = 0\n",
    "    # Apply for loop on args\n",
    "    for i in args:\n",
    "        s = s + i\n",
    "    # Return the value of s\n",
    "    return s"
   ]
  },
  {
   "cell_type": "code",
   "execution_count": 12,
   "id": "45455462",
   "metadata": {},
   "outputs": [
    {
     "name": "stdout",
     "output_type": "stream",
     "text": [
      "25\n"
     ]
    }
   ],
   "source": [
    "s1 = add_multiple(1, 4, 5, 7, 8)\n",
    "print(s1)"
   ]
  },
  {
   "cell_type": "code",
   "execution_count": 13,
   "id": "3b00e4d6",
   "metadata": {},
   "outputs": [
    {
     "data": {
      "text/plain": [
       "25"
      ]
     },
     "execution_count": 13,
     "metadata": {},
     "output_type": "execute_result"
    }
   ],
   "source": [
    "1 + 4 + 5 + 7 + 8"
   ]
  },
  {
   "cell_type": "code",
   "execution_count": 14,
   "id": "df33ad0c",
   "metadata": {},
   "outputs": [
    {
     "name": "stdout",
     "output_type": "stream",
     "text": [
      "15.5\n"
     ]
    }
   ],
   "source": [
    "s2 = add_multiple(4, 11.5)\n",
    "print(s2)"
   ]
  },
  {
   "cell_type": "code",
   "execution_count": 15,
   "id": "0596bacf",
   "metadata": {},
   "outputs": [
    {
     "name": "stdout",
     "output_type": "stream",
     "text": [
      "473\n"
     ]
    }
   ],
   "source": [
    "s3 = add_multiple(34, 11, 12, 145, 122, 125, 11, 13)\n",
    "print(s3)"
   ]
  },
  {
   "cell_type": "code",
   "execution_count": 17,
   "id": "9fd30324",
   "metadata": {},
   "outputs": [
    {
     "name": "stdout",
     "output_type": "stream",
     "text": [
      "127\n"
     ]
    }
   ],
   "source": [
    "nums = [23, 42, 11, 12, 19, 20]\n",
    "s4 = add_multiple(*nums)\n",
    "print(s4)"
   ]
  },
  {
   "cell_type": "code",
   "execution_count": 18,
   "id": "dc8dec35",
   "metadata": {},
   "outputs": [
    {
     "name": "stdout",
     "output_type": "stream",
     "text": [
      "[1, 2, 3, 4, 5, 6, 7, 8, 9, 10, 11, 12, 13, 14, 15, 16, 17, 18, 19, 20, 21, 22, 23, 24, 25, 26, 27, 28, 29, 30, 31, 32, 33, 34, 35, 36, 37, 38, 39, 40, 41, 42, 43, 44, 45, 46, 47, 48, 49, 50, 51, 52, 53, 54, 55, 56, 57, 58, 59, 60, 61, 62, 63, 64, 65, 66, 67, 68, 69, 70, 71, 72, 73, 74, 75, 76, 77, 78, 79, 80, 81, 82, 83, 84, 85, 86, 87, 88, 89, 90, 91, 92, 93, 94, 95, 96, 97, 98, 99, 100, 101, 102, 103, 104, 105, 106, 107, 108, 109, 110, 111, 112, 113, 114, 115, 116, 117, 118, 119, 120, 121, 122, 123, 124, 125, 126, 127, 128, 129, 130, 131, 132, 133, 134, 135, 136, 137, 138, 139, 140, 141, 142, 143, 144, 145, 146, 147, 148, 149, 150, 151, 152, 153, 154, 155, 156, 157, 158, 159, 160, 161, 162, 163, 164, 165, 166, 167, 168, 169, 170, 171, 172, 173, 174, 175, 176, 177, 178, 179, 180, 181, 182, 183, 184, 185, 186, 187, 188, 189, 190, 191, 192, 193, 194, 195, 196, 197, 198, 199, 200, 201, 202, 203, 204, 205, 206, 207, 208, 209, 210, 211, 212, 213, 214, 215, 216, 217, 218, 219, 220, 221, 222, 223, 224, 225, 226, 227, 228, 229, 230, 231, 232, 233, 234, 235, 236, 237, 238, 239, 240, 241, 242, 243, 244, 245, 246, 247, 248, 249, 250, 251, 252, 253, 254, 255, 256, 257, 258, 259, 260, 261, 262, 263, 264, 265, 266, 267, 268, 269, 270, 271, 272, 273, 274, 275, 276, 277, 278, 279, 280, 281, 282, 283, 284, 285, 286, 287, 288, 289, 290, 291, 292, 293, 294, 295, 296, 297, 298, 299, 300, 301, 302, 303, 304, 305, 306, 307, 308, 309, 310, 311, 312, 313, 314, 315, 316, 317, 318, 319, 320, 321, 322, 323, 324, 325, 326, 327, 328, 329, 330, 331, 332, 333, 334, 335, 336, 337, 338, 339, 340, 341, 342, 343, 344, 345, 346, 347, 348, 349, 350, 351, 352, 353, 354, 355, 356, 357, 358, 359, 360, 361, 362, 363, 364, 365, 366, 367, 368, 369, 370, 371, 372, 373, 374, 375, 376, 377, 378, 379, 380, 381, 382, 383, 384, 385, 386, 387, 388, 389, 390, 391, 392, 393, 394, 395, 396, 397, 398, 399, 400, 401, 402, 403, 404, 405, 406, 407, 408, 409, 410, 411, 412, 413, 414, 415, 416, 417, 418, 419, 420, 421, 422, 423, 424, 425, 426, 427, 428, 429, 430, 431, 432, 433, 434, 435, 436, 437, 438, 439, 440, 441, 442, 443, 444, 445, 446, 447, 448, 449, 450, 451, 452, 453, 454, 455, 456, 457, 458, 459, 460, 461, 462, 463, 464, 465, 466, 467, 468, 469, 470, 471, 472, 473, 474, 475, 476, 477, 478, 479, 480, 481, 482, 483, 484, 485, 486, 487, 488, 489, 490, 491, 492, 493, 494, 495, 496, 497, 498, 499, 500, 501, 502, 503, 504, 505, 506, 507, 508, 509, 510, 511, 512, 513, 514, 515, 516, 517, 518, 519, 520, 521, 522, 523, 524, 525, 526, 527, 528, 529, 530, 531, 532, 533, 534, 535, 536, 537, 538, 539, 540, 541, 542, 543, 544, 545, 546, 547, 548, 549, 550, 551, 552, 553, 554, 555, 556, 557, 558, 559, 560, 561, 562, 563, 564, 565, 566, 567, 568, 569, 570, 571, 572, 573, 574, 575, 576, 577, 578, 579, 580, 581, 582, 583, 584, 585, 586, 587, 588, 589, 590, 591, 592, 593, 594, 595, 596, 597, 598, 599, 600, 601, 602, 603, 604, 605, 606, 607, 608, 609, 610, 611, 612, 613, 614, 615, 616, 617, 618, 619, 620, 621, 622, 623, 624, 625, 626, 627, 628, 629, 630, 631, 632, 633, 634, 635, 636, 637, 638, 639, 640, 641, 642, 643, 644, 645, 646, 647, 648, 649, 650, 651, 652, 653, 654, 655, 656, 657, 658, 659, 660, 661, 662, 663, 664, 665, 666, 667, 668, 669, 670, 671, 672, 673, 674, 675, 676, 677, 678, 679, 680, 681, 682, 683, 684, 685, 686, 687, 688, 689, 690, 691, 692, 693, 694, 695, 696, 697, 698, 699, 700, 701, 702, 703, 704, 705, 706, 707, 708, 709, 710, 711, 712, 713, 714, 715, 716, 717, 718, 719, 720, 721, 722, 723, 724, 725, 726, 727, 728, 729, 730, 731, 732, 733, 734, 735, 736, 737, 738, 739, 740, 741, 742, 743, 744, 745, 746, 747, 748, 749, 750, 751, 752, 753, 754, 755, 756, 757, 758, 759, 760, 761, 762, 763, 764, 765, 766, 767, 768, 769, 770, 771, 772, 773, 774, 775, 776, 777, 778, 779, 780, 781, 782, 783, 784, 785, 786, 787, 788, 789, 790, 791, 792, 793, 794, 795, 796, 797, 798, 799, 800, 801, 802, 803, 804, 805, 806, 807, 808, 809, 810, 811, 812, 813, 814, 815, 816, 817, 818, 819, 820, 821, 822, 823, 824, 825, 826, 827, 828, 829, 830, 831, 832, 833, 834, 835, 836, 837, 838, 839, 840, 841, 842, 843, 844, 845, 846, 847, 848, 849, 850, 851, 852, 853, 854, 855, 856, 857, 858, 859, 860, 861, 862, 863, 864, 865, 866, 867, 868, 869, 870, 871, 872, 873, 874, 875, 876, 877, 878, 879, 880, 881, 882, 883, 884, 885, 886, 887, 888, 889, 890, 891, 892, 893, 894, 895, 896, 897, 898, 899, 900, 901, 902, 903, 904, 905, 906, 907, 908, 909, 910, 911, 912, 913, 914, 915, 916, 917, 918, 919, 920, 921, 922, 923, 924, 925, 926, 927, 928, 929, 930, 931, 932, 933, 934, 935, 936, 937, 938, 939, 940, 941, 942, 943, 944, 945, 946, 947, 948, 949, 950, 951, 952, 953, 954, 955, 956, 957, 958, 959, 960, 961, 962, 963, 964, 965, 966, 967, 968, 969, 970, 971, 972, 973, 974, 975, 976, 977, 978, 979, 980, 981, 982, 983, 984, 985, 986, 987, 988, 989, 990, 991, 992, 993, 994, 995, 996, 997, 998, 999]\n"
     ]
    }
   ],
   "source": [
    "a = list(range(1, 1000))\n",
    "print(a)"
   ]
  },
  {
   "cell_type": "code",
   "execution_count": 19,
   "id": "4eba2485",
   "metadata": {},
   "outputs": [
    {
     "name": "stdout",
     "output_type": "stream",
     "text": [
      "499500\n"
     ]
    }
   ],
   "source": [
    "s4 = add_multiple(*a)\n",
    "print(s4)"
   ]
  },
  {
   "cell_type": "markdown",
   "id": "c5e7ef86",
   "metadata": {},
   "source": [
    "# Keyword arguments\n",
    "**kwargs - this acts like a dictionary in python"
   ]
  },
  {
   "cell_type": "code",
   "execution_count": 20,
   "id": "26543d0e",
   "metadata": {},
   "outputs": [],
   "source": [
    "def function2(**kwargs):\n",
    "    print(kwargs)\n",
    "    print(f\"Type of kwargs : {type(kwargs)}\")\n",
    "    for key, value in kwargs.items():\n",
    "        print(f\"Key : {key}, Value : {value}\")"
   ]
  },
  {
   "cell_type": "code",
   "execution_count": 21,
   "id": "8ba264b3",
   "metadata": {},
   "outputs": [
    {
     "name": "stdout",
     "output_type": "stream",
     "text": [
      "{'name': 'Utkarsh', 'age': 28}\n",
      "Type of kwargs : <class 'dict'>\n",
      "Key : name, Value : Utkarsh\n",
      "Key : age, Value : 28\n"
     ]
    }
   ],
   "source": [
    "function2(name=\"Utkarsh\", age=28)"
   ]
  },
  {
   "cell_type": "code",
   "execution_count": 23,
   "id": "0891c928",
   "metadata": {},
   "outputs": [
    {
     "name": "stdout",
     "output_type": "stream",
     "text": [
      "{'name': 'Aditi', 'age': 35, 'city': 'Pune', 'married': False}\n",
      "Type of kwargs : <class 'dict'>\n",
      "Key : name, Value : Aditi\n",
      "Key : age, Value : 35\n",
      "Key : city, Value : Pune\n",
      "Key : married, Value : False\n"
     ]
    }
   ],
   "source": [
    "function2(name=\"Aditi\", age=35, city=\"Pune\", married=False)"
   ]
  },
  {
   "cell_type": "code",
   "execution_count": 27,
   "id": "0bea41ab",
   "metadata": {},
   "outputs": [],
   "source": [
    "def function3(*args, **kwargs):\n",
    "    # Args\n",
    "    print(args)\n",
    "    print(f\"Type of args : {type(args)}\")\n",
    "    for i in args:\n",
    "        print(i)\n",
    "\n",
    "    # kwargs\n",
    "    print(kwargs)\n",
    "    print(f\"Type of kwargs : {type(kwargs)}\")\n",
    "    for key, value in kwargs.items():\n",
    "        print(f\"Key : {key}, value: {value}\")"
   ]
  },
  {
   "cell_type": "code",
   "execution_count": 28,
   "id": "da75edac",
   "metadata": {},
   "outputs": [
    {
     "name": "stdout",
     "output_type": "stream",
     "text": [
      "(1, 2, 3, 4, 5)\n",
      "Type of args : <class 'tuple'>\n",
      "1\n",
      "2\n",
      "3\n",
      "4\n",
      "5\n",
      "{}\n",
      "Type of kwargs : <class 'dict'>\n"
     ]
    }
   ],
   "source": [
    "function3(1, 2, 3, 4, 5)"
   ]
  },
  {
   "cell_type": "code",
   "execution_count": 29,
   "id": "9aafd8f5",
   "metadata": {},
   "outputs": [
    {
     "name": "stdout",
     "output_type": "stream",
     "text": [
      "()\n",
      "Type of args : <class 'tuple'>\n",
      "{'a': 3, 'b': 12, 'c': 14}\n",
      "Type of kwargs : <class 'dict'>\n",
      "Key : a, value: 3\n",
      "Key : b, value: 12\n",
      "Key : c, value: 14\n"
     ]
    }
   ],
   "source": [
    "function3(a=3, b=12, c=14)"
   ]
  },
  {
   "cell_type": "code",
   "execution_count": 30,
   "id": "0b93bd70",
   "metadata": {},
   "outputs": [
    {
     "name": "stdout",
     "output_type": "stream",
     "text": [
      "('a', 'b', 'c', 12)\n",
      "Type of args : <class 'tuple'>\n",
      "a\n",
      "b\n",
      "c\n",
      "12\n",
      "{'name': 'raman', 'age': 24, 'contact': 1234}\n",
      "Type of kwargs : <class 'dict'>\n",
      "Key : name, value: raman\n",
      "Key : age, value: 24\n",
      "Key : contact, value: 1234\n"
     ]
    }
   ],
   "source": [
    "function3(\"a\", \"b\", \"c\", 12, name=\"raman\", age=24, contact=1234)"
   ]
  },
  {
   "cell_type": "markdown",
   "id": "8d6121bb",
   "metadata": {},
   "source": [
    "# I want to flexibly store information of a user"
   ]
  },
  {
   "cell_type": "code",
   "execution_count": null,
   "id": "be759f8b",
   "metadata": {},
   "outputs": [],
   "source": [
    "def create_user(**kwargs):\n",
    "    user = {\n",
    "        \"name\": None,\n",
    "        \"age\": None,\n",
    "        \"city\": None,\n",
    "    }\n",
    "    user.update(kwargs)\n",
    "    return user"
   ]
  },
  {
   "cell_type": "code",
   "execution_count": 32,
   "id": "1263c897",
   "metadata": {},
   "outputs": [
    {
     "data": {
      "text/plain": [
       "{'name': None, 'age': None, 'city': None}"
      ]
     },
     "execution_count": 32,
     "metadata": {},
     "output_type": "execute_result"
    }
   ],
   "source": [
    "create_user()"
   ]
  },
  {
   "cell_type": "code",
   "execution_count": 33,
   "id": "bd323165",
   "metadata": {},
   "outputs": [
    {
     "name": "stdout",
     "output_type": "stream",
     "text": [
      "{'name': 'Sarthak', 'age': 28, 'city': None}\n"
     ]
    }
   ],
   "source": [
    "u1 = create_user(name=\"Sarthak\", age=28)\n",
    "print(u1)"
   ]
  },
  {
   "cell_type": "code",
   "execution_count": 34,
   "id": "5d47fb2c",
   "metadata": {},
   "outputs": [
    {
     "name": "stdout",
     "output_type": "stream",
     "text": [
      "{'name': 'Priya', 'age': 30, 'city': 'Mumbai'}\n"
     ]
    }
   ],
   "source": [
    "u2 = create_user(name=\"Priya\", age=30, city=\"Mumbai\")\n",
    "print(u2)"
   ]
  },
  {
   "cell_type": "code",
   "execution_count": 35,
   "id": "1f29396f",
   "metadata": {},
   "outputs": [
    {
     "name": "stdout",
     "output_type": "stream",
     "text": [
      "{'name': 'Rahul', 'age': 25, 'city': 'Pune', 'email': 'rahul@test.com', 'contact': 1234}\n"
     ]
    }
   ],
   "source": [
    "u3 = create_user(\n",
    "    name=\"Rahul\", age=25, city=\"Pune\", email=\"rahul@test.com\", contact=1234\n",
    ")\n",
    "print(u3)"
   ]
  },
  {
   "cell_type": "code",
   "execution_count": 36,
   "id": "f0416856",
   "metadata": {},
   "outputs": [
    {
     "name": "stdout",
     "output_type": "stream",
     "text": [
      "{'name': 'Aditi', 'age': None, 'city': 'Nashik', 'email': 'aditi@test.com'}\n"
     ]
    }
   ],
   "source": [
    "u4 = create_user(name=\"Aditi\", city=\"Nashik\", email=\"aditi@test.com\")\n",
    "print(u4)"
   ]
  },
  {
   "cell_type": "code",
   "execution_count": null,
   "id": "9c288f1b",
   "metadata": {},
   "outputs": [],
   "source": []
  }
 ],
 "metadata": {
  "kernelspec": {
   "display_name": "Adv Python 7-9 pm Ravet",
   "language": "python",
   "name": "python3"
  },
  "language_info": {
   "codemirror_mode": {
    "name": "ipython",
    "version": 3
   },
   "file_extension": ".py",
   "mimetype": "text/x-python",
   "name": "python",
   "nbconvert_exporter": "python",
   "pygments_lexer": "ipython3",
   "version": "3.13.5"
  }
 },
 "nbformat": 4,
 "nbformat_minor": 5
}
